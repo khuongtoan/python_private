{
 "cells": [
  {
   "cell_type": "code",
   "execution_count": 12,
   "metadata": {},
   "outputs": [
    {
     "name": "stdout",
     "output_type": "stream",
     "text": [
      "22026.46579480671\n"
     ]
    }
   ],
   "source": [
    "import math\n",
    "\n",
    "def tinhEmuX(x):\n",
    "    result = 1\n",
    "    tu=1\n",
    "    mau=1\n",
    "\n",
    "    for i in range(1,50):  \n",
    "        tu=tu*x \n",
    "        mau*=i\n",
    "        result += tu/mau\n",
    "\n",
    "    return result\n",
    "\n",
    "print(tinhEmuX(10))\n"
   ]
  },
  {
   "cell_type": "code",
   "execution_count": 5,
   "metadata": {},
   "outputs": [
    {
     "name": "stdout",
     "output_type": "stream",
     "text": [
      "1.5\n"
     ]
    }
   ],
   "source": [
    "def bai1_2(x):\n",
    "    result = 1  \n",
    "    mau = 1     \n",
    "\n",
    "    for i in range(2, x + 1):  # Chạy từ 1 đến x\n",
    "        mau *= i\n",
    "        result += 1 / mau\n",
    "\n",
    "    return result\n",
    "\n",
    "n = int(input(\"Nhập vào n: \"))\n",
    "print(bai1_2(n))\n"
   ]
  },
  {
   "cell_type": "code",
   "execution_count": 12,
   "metadata": {},
   "outputs": [
    {
     "name": "stdout",
     "output_type": "stream",
     "text": [
      "0\n"
     ]
    }
   ],
   "source": [
    "def bai2_1 (): \n",
    "    n = int(input(\"nhap vao so nguyen duong n: \"))\n",
    "    print(int(((n-1)**0.5))-1 )\n",
    "bai2_1()\n"
   ]
  },
  {
   "cell_type": "code",
   "execution_count": 14,
   "metadata": {},
   "outputs": [
    {
     "name": "stdout",
     "output_type": "stream",
     "text": [
      "1 Sơn 175 Giỏi\n"
     ]
    }
   ],
   "source": [
    "def bai3_1 ():\n",
    "    n = int(input(\"nhap vao so nguoi tham gia: \"))\n",
    "    for i in range (1, n+1):\n",
    "        name  = input()\n",
    "        score1 = int(input())\n",
    "        score2 = int(input())\n",
    "        total = score1+ score2\n",
    "        if total >= 190:\n",
    "            print(i, name,total, \"Xuất sắc\")\n",
    "        elif total >= 150:\n",
    "            print(i, name,total, \"Giỏi\")\n",
    "        elif total >= 100:\n",
    "            print(i, name,total, \"Khá\")\n",
    "        else :\n",
    "            print(i, name,total, \"Yếu\")\n",
    "bai3_1()"
   ]
  },
  {
   "cell_type": "code",
   "execution_count": 17,
   "metadata": {},
   "outputs": [
    {
     "name": "stdout",
     "output_type": "stream",
     "text": [
      "Invalid\n"
     ]
    }
   ],
   "source": [
    "def bai4_1 ():\n",
    "    email = input()\n",
    "    apos = email.find(\"@\")\n",
    "    dot_pos = email.find(\".\")\n",
    "    if dot_pos > apos and dot_pos-apos >1 and  dot_pos< len(email)-1 and apos>0:\n",
    "        print(\"Valid\")\n",
    "    else :\n",
    "        print(\"Invalid\")\n",
    "bai4_1()"
   ]
  },
  {
   "cell_type": "code",
   "execution_count": 29,
   "metadata": {},
   "outputs": [
    {
     "name": "stdout",
     "output_type": "stream",
     "text": [
      "oc need: 55 kg food\n",
      "total_food: 55\n",
      "top_eater: oc\n",
      "0\n"
     ]
    }
   ],
   "source": [
    "def bai5_1 ():\n",
    "    m = int(input(\"enter the number of species: \"))\n",
    "    lst_name = []\n",
    "    lst_volume =[]\n",
    "    total_food =0\n",
    "    for i in range(m):\n",
    "        lst_name.append(input(\"enter name of species: \"))\n",
    "    for i in range(m):\n",
    "        lst_volume.append(int(input(\"enter volume: \")))\n",
    "\n",
    "    dicta ={}\n",
    "\n",
    "    for i in range(m):\n",
    "        if lst_volume[i] >= 5:\n",
    "            total_food += lst_volume[i]\n",
    "            dicta[lst_name[i]] = lst_volume[i]\n",
    "\n",
    "\n",
    "    for a,b in dicta.items():\n",
    "        print(a ,\"need:\",b,\"kg food\")\n",
    "\n",
    "\n",
    "    print(\"total_food:\" , total_food, )\n",
    "\n",
    "    k_max = max(dicta, key = dicta.get )\n",
    "    print(\"top_eater:\", k_max )\n",
    "\n",
    "\n",
    "    if len(dicta) < m :\n",
    "        min_volume = min(lst_volume)\n",
    "        min_position = lst_volume.index(min_volume)\n",
    "        print(min_position)\n",
    "    else :\n",
    "        print(\"không có\")\n",
    "\n",
    "bai5_1()"
   ]
  },
  {
   "cell_type": "code",
   "execution_count": 32,
   "metadata": {},
   "outputs": [
    {
     "name": "stdout",
     "output_type": "stream",
     "text": [
      "2.0\n"
     ]
    }
   ],
   "source": [
    "import math\n",
    "\n",
    "def is_number(x):\n",
    "    try:\n",
    "        float(x)\n",
    "        return True\n",
    "    except ValueError:\n",
    "        return False        \n",
    "\n",
    "def activation_function_cnn():\n",
    "    x = input(\"Enter x: \")\n",
    "    string = input(\"Enter activation function: (Binary | Sigmoid | ELU): \")\n",
    "    \n",
    "    if not is_number(x):\n",
    "        print(\"x must be a number\")\n",
    "        return\n",
    "    \n",
    "    x = float(x)\n",
    "\n",
    "    if string.lower() == \"binary\":\n",
    "        print('0' if x < 0 else \"1\")\n",
    "    elif string.lower() == \"sigmoid\":\n",
    "        print(1 / (1 + math.exp(-x)))\n",
    "    elif string.lower() == \"elu\":\n",
    "        print(x if x >= 0 else 0.01 * (math.exp(x) - 1))\n",
    "    else:\n",
    "        print(\"Not supported\")\n",
    "\n",
    "activation_function_cnn()\n"
   ]
  }
 ],
 "metadata": {
  "kernelspec": {
   "display_name": "Python 3",
   "language": "python",
   "name": "python3"
  },
  "language_info": {
   "codemirror_mode": {
    "name": "ipython",
    "version": 3
   },
   "file_extension": ".py",
   "mimetype": "text/x-python",
   "name": "python",
   "nbconvert_exporter": "python",
   "pygments_lexer": "ipython3",
   "version": "3.12.3"
  }
 },
 "nbformat": 4,
 "nbformat_minor": 2
}
