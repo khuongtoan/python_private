{
 "cells": [
  {
   "cell_type": "code",
   "execution_count": null,
   "metadata": {},
   "outputs": [],
   "source": [
    "def bai1 ():\n",
    "    lst_a = [1,2,3,4,5,6,7,8,9]\n",
    "    n = int(input(\"n= \"))\n",
    "    m = int(input(\"m= \"))\n",
    "    if ( n*m > len(lst_a) ) :\n",
    "        print(\"not create matrix\")\n",
    "    else :\n",
    "        lst =[]\n",
    "        cou =0\n",
    "        for i in range (n):\n",
    "            lst_tmps =[]\n",
    "            for j in range (m):\n",
    "                lst_tmps.append(lst_a[cou])\n",
    "                cou+=1\n",
    "            lst.append(lst_tmps)\n",
    "        print(lst)"
   ]
  },
  {
   "cell_type": "code",
   "execution_count": null,
   "metadata": {},
   "outputs": [],
   "source": [
    "def bai2 ():\n",
    "    k = int(input(\"enter len of list a: \"))\n",
    "    print(\"enter the elements\")\n",
    "    listA =[]\n",
    "    for i in range ( k ):\n",
    "        listA.append(input())\n",
    "\n",
    "\n",
    "    listB =[]\n",
    "    l = int(input(\"enter len of list b: \"))\n",
    "    print(\"enter the elements\")\n",
    "    for i in range(l):\n",
    "        listB.append(input())\n",
    "\n",
    "    total_array =[]\n",
    "\n",
    "    x,y =0,0\n",
    "    while  x< len(listA) and y< len(listB) :\n",
    "        total_array.append(listA[x])\n",
    "        total_array.append(listB[y])\n",
    "        x+=1\n",
    "        y+=1\n",
    "    while x< len(listA):\n",
    "        total_array.append(listA[x])\n",
    "        x+=1\n",
    "\n",
    "    while y< len(listB):\n",
    "        total_array.append(listB)\n",
    "        y+=1\n",
    "    print(total_array)"
   ]
  },
  {
   "cell_type": "code",
   "execution_count": null,
   "metadata": {},
   "outputs": [],
   "source": [
    "def bai3():\n",
    "    num1 = [4, 9, 5]\n",
    "    num2 = [9, 4, 9, 8, 4]\n",
    "\n",
    "    lst =[]\n",
    "    for i in range (len(num1)):\n",
    "        if num1[i] in num2:\n",
    "            lst.append(num1[i])\n",
    "            num2.remove(num1[i])\n",
    "    print(lst)"
   ]
  },
  {
   "cell_type": "code",
   "execution_count": null,
   "metadata": {},
   "outputs": [],
   "source": [
    "def bai5_binary_search (a , left , right, x):\n",
    "    mid = (left+right) //2\n",
    "    if left > right :\n",
    "        return -1\n",
    "    if a[mid] == x:\n",
    "        return mid;\n",
    "    elif a[mid] > x :\n",
    "        return bai5_binary_search(a,left,mid-1,x)\n",
    "    else:\n",
    "        return bai5_binary_search(a,mid+1, right,x )"
   ]
  }
 ],
 "metadata": {
  "language_info": {
   "name": "python"
  }
 },
 "nbformat": 4,
 "nbformat_minor": 2
}
